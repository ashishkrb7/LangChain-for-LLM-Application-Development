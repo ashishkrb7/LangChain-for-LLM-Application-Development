{
 "cells": [
  {
   "attachments": {},
   "cell_type": "markdown",
   "id": "52824b89-532a-4e54-87e9-1410813cd39e",
   "metadata": {},
   "source": [
    "# LangChain: Q&A over Documents\n",
    "\n",
    "An example might be a tool that would allow you to query a product catalog for items of interest."
   ]
  },
  {
   "cell_type": "code",
   "execution_count": 1,
   "id": "10c1f7b9",
   "metadata": {
    "height": 30
   },
   "outputs": [],
   "source": [
    "#pip install --upgrade langchain"
   ]
  },
  {
   "cell_type": "code",
   "execution_count": 1,
   "id": "b7ed03ed-1322-49e3-b2a2-33e94fb592ef",
   "metadata": {
    "height": 81,
    "tags": []
   },
   "outputs": [],
   "source": [
    "import os\n",
    "\n",
    "from dotenv import load_dotenv, find_dotenv\n",
    "_ = load_dotenv(find_dotenv()) # read local .env file"
   ]
  },
  {
   "cell_type": "code",
   "execution_count": 7,
   "id": "974acf8e-8f88-42de-88f8-40a82cb58e8b",
   "metadata": {
    "height": 98
   },
   "outputs": [],
   "source": [
    "from langchain.chains import RetrievalQA\n",
    "from langchain.chat_models import AzureChatOpenAI\n",
    "from langchain.document_loaders import CSVLoader\n",
    "from langchain.vectorstores import DocArrayInMemorySearch\n",
    "from IPython.display import display, Markdown\n",
    "from langchain.embeddings import OpenAIEmbeddings"
   ]
  },
  {
   "cell_type": "code",
   "execution_count": 3,
   "id": "d1835cf3",
   "metadata": {},
   "outputs": [],
   "source": [
    "file = 'OutdoorClothingCatalog_1000.csv'\n",
    "loader = CSVLoader(file_path=file, encoding='utf-8')"
   ]
  },
  {
   "cell_type": "code",
   "execution_count": 4,
   "id": "011ee614",
   "metadata": {},
   "outputs": [],
   "source": [
    "# Set OpenAI API key\n",
    "os.environ[\"OPENAI_API_TYPE\"] = os.getenv(\"api_type\")\n",
    "os.environ[\"OPENAI_API_BASE\"] = os.getenv(\"api_base\")\n",
    "os.environ[\"OPENAI_API_VERSION\"] = os.getenv(\"api_version\")\n",
    "os.environ[\"OPENAI_API_KEY\"] = os.getenv(\"OPENAI_API_KEY\")"
   ]
  },
  {
   "cell_type": "code",
   "execution_count": 5,
   "id": "5d3375b1",
   "metadata": {},
   "outputs": [],
   "source": [
    "llm = AzureChatOpenAI(deployment_name=\"chatgpt-gpt35-turbo\",model_name=\"gpt-35-turbo\",temperature=0.0)"
   ]
  },
  {
   "cell_type": "code",
   "execution_count": 6,
   "id": "5bfaba30",
   "metadata": {
    "height": 30
   },
   "outputs": [],
   "source": [
    "from langchain.indexes import VectorstoreIndexCreator"
   ]
  },
  {
   "cell_type": "code",
   "execution_count": 24,
   "id": "9b5ab657",
   "metadata": {
    "height": 30
   },
   "outputs": [],
   "source": [
    "# pip install docarray"
   ]
  },
  {
   "cell_type": "code",
   "execution_count": 9,
   "id": "9e200726",
   "metadata": {
    "height": 64
   },
   "outputs": [],
   "source": [
    "index = VectorstoreIndexCreator(\n",
    "    vectorstore_cls=DocArrayInMemorySearch,\n",
    "    embedding = OpenAIEmbeddings(model = \"text-embedding-ada-002\",chunk_size=1)\n",
    ").from_loaders([loader])"
   ]
  },
  {
   "cell_type": "code",
   "execution_count": 10,
   "id": "34562d81",
   "metadata": {
    "height": 47
   },
   "outputs": [],
   "source": [
    "query =\"Please list all your shirts with sun protection \\\n",
    "in a table in markdown and summarize each one.\""
   ]
  },
  {
   "cell_type": "code",
   "execution_count": 12,
   "id": "cfd0cc37",
   "metadata": {
    "height": 30
   },
   "outputs": [],
   "source": [
    "response = index.query(query, llm)"
   ]
  },
  {
   "cell_type": "code",
   "execution_count": 13,
   "id": "ae21f1ff",
   "metadata": {
    "height": 30,
    "scrolled": true
   },
   "outputs": [
    {
     "data": {
      "text/markdown": [
       "| Name | Description | Sun Protection |\n",
       "| --- | --- | --- |\n",
       "| Refresh Swimwear, V-Neck Tankini Contrasts | Watersport-ready tankini top designed to move with you and stay comfortable. | UPF 50+ rated – the highest rated sun protection possible. |\n",
       "| Infant and Toddler Girls' Coastal Chill Swimsuit, Two-Piece | Toddler's two-piece swimsuit with bright colors, ruffles, and exclusive whimsical prints. | UPF 50+ rated – the highest rated sun protection possible, blocking 98% of the sun's harmful rays. |\n",
       "\n",
       "There is only two shirts with sun protection:\n",
       "- Refresh Swimwear, V-Neck Tankini Contrasts: A watersport-ready tankini top designed to move with you and stay comfortable. It has UPF 50+ rated sun protection.\n",
       "- Infant and Toddler Girls' Coastal Chill Swimsuit, Two-Piece: A toddler's two-piece swimsuit with bright colors, ruffles, and exclusive whimsical prints. It has UPF 50+ rated sun protection, blocking 98% of the sun's harmful rays."
      ],
      "text/plain": [
       "<IPython.core.display.Markdown object>"
      ]
     },
     "metadata": {},
     "output_type": "display_data"
    }
   ],
   "source": [
    "display(Markdown(response))"
   ]
  },
  {
   "cell_type": "code",
   "execution_count": 14,
   "id": "631396c6",
   "metadata": {
    "height": 30
   },
   "outputs": [],
   "source": [
    "loader = CSVLoader(file_path=file, encoding='utf-8')"
   ]
  },
  {
   "cell_type": "code",
   "execution_count": 15,
   "id": "6c2164b5",
   "metadata": {
    "height": 30
   },
   "outputs": [],
   "source": [
    "docs = loader.load()"
   ]
  },
  {
   "cell_type": "code",
   "execution_count": 16,
   "id": "4a977f44",
   "metadata": {
    "height": 30
   },
   "outputs": [
    {
     "data": {
      "text/plain": [
       "Document(lc_kwargs={'page_content': \": 0\\nname: Women's Campside Oxfords\\ndescription: This ultracomfortable lace-to-toe Oxford boasts a super-soft canvas, thick cushioning, and quality construction for a broken-in feel from the first time you put them on. \\n\\nSize & Fit: Order regular shoe size. For half sizes not offered, order up to next whole size. \\n\\nSpecs: Approx. weight: 1 lb.1 oz. per pair. \\n\\nConstruction: Soft canvas material for a broken-in feel and look. Comfortable EVA innersole with Cleansport NXT® antimicrobial odor control. Vintage hunt, fish and camping motif on innersole. Moderate arch contour of innersole. EVA foam midsole for cushioning and support. Chain-tread-inspired molded rubber outsole with modified chain-tread pattern. Imported. \\n\\nQuestions? Please contact us for any inquiries.\", 'metadata': {'source': 'OutdoorClothingCatalog_1000.csv', 'row': 0}}, page_content=\": 0\\nname: Women's Campside Oxfords\\ndescription: This ultracomfortable lace-to-toe Oxford boasts a super-soft canvas, thick cushioning, and quality construction for a broken-in feel from the first time you put them on. \\n\\nSize & Fit: Order regular shoe size. For half sizes not offered, order up to next whole size. \\n\\nSpecs: Approx. weight: 1 lb.1 oz. per pair. \\n\\nConstruction: Soft canvas material for a broken-in feel and look. Comfortable EVA innersole with Cleansport NXT® antimicrobial odor control. Vintage hunt, fish and camping motif on innersole. Moderate arch contour of innersole. EVA foam midsole for cushioning and support. Chain-tread-inspired molded rubber outsole with modified chain-tread pattern. Imported. \\n\\nQuestions? Please contact us for any inquiries.\", metadata={'source': 'OutdoorClothingCatalog_1000.csv', 'row': 0})"
      ]
     },
     "execution_count": 16,
     "metadata": {},
     "output_type": "execute_result"
    }
   ],
   "source": [
    "docs[0]"
   ]
  },
  {
   "cell_type": "code",
   "execution_count": 22,
   "id": "e875693a",
   "metadata": {
    "height": 47
   },
   "outputs": [],
   "source": [
    "from langchain.embeddings import OpenAIEmbeddings\n",
    "embeddings = OpenAIEmbeddings(model = \"text-embedding-ada-002\",chunk_size=1)"
   ]
  },
  {
   "cell_type": "code",
   "execution_count": 23,
   "id": "779bec75",
   "metadata": {
    "height": 30
   },
   "outputs": [],
   "source": [
    "embed = embeddings.embed_query(\"Hi my name is Harrison\")"
   ]
  },
  {
   "cell_type": "code",
   "execution_count": 24,
   "id": "699aaaf9",
   "metadata": {
    "height": 30
   },
   "outputs": [
    {
     "name": "stdout",
     "output_type": "stream",
     "text": [
      "1536\n"
     ]
    }
   ],
   "source": [
    "print(len(embed))"
   ]
  },
  {
   "cell_type": "code",
   "execution_count": 25,
   "id": "9d00d346",
   "metadata": {
    "height": 30
   },
   "outputs": [
    {
     "name": "stdout",
     "output_type": "stream",
     "text": [
      "[-0.02186359278857708, 0.006734037306159735, -0.01820078119635582, -0.03919587284326553, -0.014047075994312763]\n"
     ]
    }
   ],
   "source": [
    "print(embed[:5])"
   ]
  },
  {
   "cell_type": "code",
   "execution_count": 26,
   "id": "27ad0bb0",
   "metadata": {
    "height": 81
   },
   "outputs": [],
   "source": [
    "db = DocArrayInMemorySearch.from_documents(\n",
    "    docs, \n",
    "    embeddings\n",
    ")"
   ]
  },
  {
   "cell_type": "code",
   "execution_count": 27,
   "id": "0329bfd5",
   "metadata": {
    "height": 30
   },
   "outputs": [],
   "source": [
    "query = \"Please suggest a shirt with sunblocking\""
   ]
  },
  {
   "cell_type": "code",
   "execution_count": 28,
   "id": "7909c6b7",
   "metadata": {
    "height": 30
   },
   "outputs": [],
   "source": [
    "docs = db.similarity_search(query)"
   ]
  },
  {
   "cell_type": "code",
   "execution_count": 29,
   "id": "43321853",
   "metadata": {
    "height": 30
   },
   "outputs": [
    {
     "data": {
      "text/plain": [
       "4"
      ]
     },
     "execution_count": 29,
     "metadata": {},
     "output_type": "execute_result"
    }
   ],
   "source": [
    "len(docs)"
   ]
  },
  {
   "cell_type": "code",
   "execution_count": 30,
   "id": "6eba90b5",
   "metadata": {
    "height": 30
   },
   "outputs": [
    {
     "data": {
      "text/plain": [
       "Document(lc_kwargs={'page_content': \": 5\\nname: Smooth Comfort Check Shirt, Slightly Fitted\\ndescription: Our men's slightly fitted check shirt is the perfect choice for your wardrobe! Customers love how it fits right out of the dryer. Size & Fit: Slightly Fitted, Relaxed through the chest and sleeve with a slightly slimmer waist. Fabric & Care: 100% cotton poplin, with wrinkle-free performance that won't wash out. Our innovative TrueCool® fabric wicks moisture away from your skin and helps it dry quickly. Additional Features: Traditional styling with a button-down collar and a single patch pocket. Imported.\", 'metadata': {'source': 'OutdoorClothingCatalog_1000.csv', 'row': 5}}, page_content=\": 5\\nname: Smooth Comfort Check Shirt, Slightly Fitted\\ndescription: Our men's slightly fitted check shirt is the perfect choice for your wardrobe! Customers love how it fits right out of the dryer. Size & Fit: Slightly Fitted, Relaxed through the chest and sleeve with a slightly slimmer waist. Fabric & Care: 100% cotton poplin, with wrinkle-free performance that won't wash out. Our innovative TrueCool® fabric wicks moisture away from your skin and helps it dry quickly. Additional Features: Traditional styling with a button-down collar and a single patch pocket. Imported.\", metadata={'source': 'OutdoorClothingCatalog_1000.csv', 'row': 5})"
      ]
     },
     "execution_count": 30,
     "metadata": {},
     "output_type": "execute_result"
    }
   ],
   "source": [
    "docs[0]"
   ]
  },
  {
   "cell_type": "code",
   "execution_count": 31,
   "id": "c0c3596e",
   "metadata": {
    "height": 30
   },
   "outputs": [],
   "source": [
    "retriever = db.as_retriever()"
   ]
  },
  {
   "cell_type": "code",
   "execution_count": 32,
   "id": "a573f58a",
   "metadata": {
    "height": 47
   },
   "outputs": [],
   "source": [
    "qdocs = \"\".join([docs[i].page_content for i in range(len(docs))])\n"
   ]
  },
  {
   "cell_type": "code",
   "execution_count": 33,
   "id": "14682d95",
   "metadata": {
    "height": 64
   },
   "outputs": [],
   "source": [
    "response = llm.call_as_llm(f\"{qdocs} Question: Please list all your \\\n",
    "shirts with sun protection in a table in markdown and summarize each one.\") \n"
   ]
  },
  {
   "cell_type": "code",
   "execution_count": 34,
   "id": "8bba545b",
   "metadata": {
    "height": 30
   },
   "outputs": [
    {
     "data": {
      "text/markdown": [
       "| Shirt Name | Sun Protection | Summary |\n",
       "| --- | --- | --- |\n",
       "| Refresh Swimwear, V-Neck Tankini Contrasts | UPF 50+ | This swimtop is made with recycled nylon and Lycra spandex for stretch and breathability. It has a flattering V-neck silhouette and racerback straps. Provides the highest rated sun protection possible. |\n",
       "| Infant and Toddler Girls' Coastal Chill Swimsuit, Two-Piece | UPF 50+ | This toddler's two-piece swimsuit has bright colors, ruffles, and exclusive prints. The four-way-stretch and chlorine-resistant fabric keeps its shape and resists snags. The crossover no-slip straps and fully lined bottom ensure a secure fit and maximum coverage. Provides the highest rated sun protection possible. |\n",
       "| Smooth Comfort Check Shirt, Slightly Fitted | N/A | This men's check shirt is made with 100% cotton poplin and wrinkle-free performance. It has a slightly fitted, relaxed fit and traditional styling with a button-down collar and patch pocket. |\n",
       "| EcoFlex 3L Storm Pants | N/A | These waterproof pants are made with TEK O2 technology for enhanced breathability. They have a slightly fitted fit and are ideal for a variety of outdoor activities year-round. Features include weather-blocking gaiters, side zips, and multiple pockets. |\n",
       " \n",
       "Summary: The Refresh Swimwear and Infant and Toddler Girls' Coastal Chill Swimsuit both provide UPF 50+ sun protection, making them ideal for outdoor water activities. The Smooth Comfort Check Shirt and EcoFlex 3L Storm Pants do not have sun protection, but offer other features such as wrinkle-free performance and waterproof protection."
      ],
      "text/plain": [
       "<IPython.core.display.Markdown object>"
      ]
     },
     "metadata": {},
     "output_type": "display_data"
    }
   ],
   "source": [
    "display(Markdown(response))"
   ]
  },
  {
   "cell_type": "code",
   "execution_count": 35,
   "id": "32c94d22",
   "metadata": {
    "height": 115
   },
   "outputs": [],
   "source": [
    "qa_stuff = RetrievalQA.from_chain_type(\n",
    "    llm=llm, \n",
    "    chain_type=\"stuff\", \n",
    "    retriever=retriever, \n",
    "    verbose=True\n",
    ")"
   ]
  },
  {
   "cell_type": "code",
   "execution_count": 36,
   "id": "e4769316",
   "metadata": {
    "height": 47
   },
   "outputs": [],
   "source": [
    "query =  \"Please list all your shirts with sun protection in a table \\\n",
    "in markdown and summarize each one.\""
   ]
  },
  {
   "cell_type": "code",
   "execution_count": 37,
   "id": "1fc3c2f3",
   "metadata": {
    "height": 30
   },
   "outputs": [
    {
     "name": "stderr",
     "output_type": "stream",
     "text": [
      "Error in on_chain_start callback: 'name'\n"
     ]
    },
    {
     "name": "stdout",
     "output_type": "stream",
     "text": [
      "\n",
      "\u001b[1m> Finished chain.\u001b[0m\n"
     ]
    }
   ],
   "source": [
    "response = qa_stuff.run(query)"
   ]
  },
  {
   "cell_type": "code",
   "execution_count": 38,
   "id": "fba1a5db",
   "metadata": {
    "height": 30
   },
   "outputs": [
    {
     "data": {
      "text/markdown": [
       "| Name | Description | Sun Protection |\n",
       "| --- | --- | --- |\n",
       "| Refresh Swimwear, V-Neck Tankini Contrasts | Watersport-ready tankini top designed to move with you and stay comfortable. Made with premium Italian-blend fabric that is breathable, quick-drying, and abrasion-resistant. UPF 50+ rated. | UPF 50+ rated |\n",
       "| Infant and Toddler Girls' Coastal Chill Swimsuit, Two-Piece | Two-piece swimsuit for toddlers with bright colors, ruffles, and exclusive whimsical prints. Made with four-way-stretch and chlorine-resistant fabric that keeps its shape and resists snags. UPF 50+ rated. | UPF 50+ rated |\n",
       " \n",
       "Both the Refresh Swimwear, V-Neck Tankini Contrasts and Infant and Toddler Girls' Coastal Chill Swimsuit, Two-Piece provide UPF 50+ rated sun protection. The Refresh Swimwear is a tankini top designed for watersports, made with premium Italian-blend fabric that is breathable, quick-drying, and abrasion-resistant. The Infant and Toddler Girls' Coastal Chill Swimsuit is a two-piece swimsuit for toddlers with bright colors, ruffles, and exclusive whimsical prints, made with four-way-stretch and chlorine-resistant fabric that keeps its shape and resists snags."
      ],
      "text/plain": [
       "<IPython.core.display.Markdown object>"
      ]
     },
     "metadata": {},
     "output_type": "display_data"
    }
   ],
   "source": [
    "display(Markdown(response))"
   ]
  }
 ],
 "metadata": {
  "kernelspec": {
   "display_name": "Python 3 (ipykernel)",
   "language": "python",
   "name": "python3"
  },
  "language_info": {
   "codemirror_mode": {
    "name": "ipython",
    "version": 3
   },
   "file_extension": ".py",
   "mimetype": "text/x-python",
   "name": "python",
   "nbconvert_exporter": "python",
   "pygments_lexer": "ipython3",
   "version": "3.10.8"
  }
 },
 "nbformat": 4,
 "nbformat_minor": 5
}
